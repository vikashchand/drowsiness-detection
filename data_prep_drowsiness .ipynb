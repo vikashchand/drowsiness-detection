{
 "cells": [
  {
   "cell_type": "code",
   "execution_count": 1,
   "metadata": {},
   "outputs": [],
   "source": [
    "import os\n",
    "import glob\n",
    "import shutil\n",
    "import random\n",
    "from tqdm import tqdm"
   ]
  },
  {
   "cell_type": "code",
   "execution_count": 6,
   "metadata": {},
   "outputs": [
    {
     "name": "stderr",
     "output_type": "stream",
     "text": [
      "0it [00:00, ?it/s]\n",
      "100%|██████████| 3242/3242 [00:01<00:00, 1949.73it/s]\n",
      "100%|██████████| 1114/1114 [00:00<00:00, 1669.87it/s]\n",
      "100%|██████████| 679/679 [00:00<00:00, 1995.01it/s]\n",
      "100%|██████████| 1069/1069 [00:00<00:00, 2042.46it/s]\n",
      "100%|██████████| 736/736 [00:00<00:00, 1934.13it/s]\n",
      "100%|██████████| 1012/1012 [00:00<00:00, 2037.72it/s]\n",
      "100%|██████████| 624/624 [00:00<00:00, 1919.50it/s]\n",
      "100%|██████████| 832/832 [00:00<00:00, 1981.77it/s]\n",
      "100%|██████████| 387/387 [00:00<00:00, 1929.95it/s]\n",
      "100%|██████████| 399/399 [00:00<00:00, 1849.45it/s]\n",
      "100%|██████████| 1648/1648 [00:00<00:00, 1965.15it/s]\n",
      "100%|██████████| 8728/8728 [00:04<00:00, 1756.49it/s]\n",
      "100%|██████████| 3605/3605 [00:01<00:00, 1829.76it/s]\n",
      "100%|██████████| 8884/8884 [00:04<00:00, 1836.30it/s]\n",
      "100%|██████████| 1132/1132 [00:00<00:00, 1506.53it/s]\n",
      "100%|██████████| 1889/1889 [00:01<00:00, 1326.14it/s]\n",
      "100%|██████████| 1648/1648 [00:01<00:00, 1538.96it/s]\n",
      "100%|██████████| 4410/4410 [00:02<00:00, 1509.30it/s]\n",
      "100%|██████████| 6175/6175 [00:03<00:00, 1547.85it/s]\n",
      "100%|██████████| 704/704 [00:00<00:00, 1444.31it/s]\n",
      "100%|██████████| 987/987 [00:00<00:00, 1629.94it/s]\n",
      "100%|██████████| 382/382 [00:00<00:00, 1501.09it/s]\n",
      "100%|██████████| 522/522 [00:00<00:00, 1629.45it/s]\n",
      "100%|██████████| 752/752 [00:00<00:00, 1451.27it/s]\n",
      "100%|██████████| 1502/1502 [00:00<00:00, 1786.48it/s]\n",
      "100%|██████████| 1246/1246 [00:00<00:00, 1737.21it/s]\n",
      "100%|██████████| 665/665 [00:00<00:00, 1761.18it/s]\n",
      "100%|██████████| 736/736 [00:00<00:00, 1681.45it/s]\n",
      "100%|██████████| 1393/1393 [00:00<00:00, 1781.42it/s]\n",
      "100%|██████████| 1384/1384 [00:00<00:00, 1977.94it/s]\n",
      "100%|██████████| 1738/1738 [00:00<00:00, 1944.74it/s]\n",
      "100%|██████████| 6162/6162 [00:03<00:00, 1771.34it/s]\n",
      "100%|██████████| 681/681 [00:00<00:00, 1793.91it/s]\n",
      "100%|██████████| 739/739 [00:00<00:00, 1761.51it/s]\n",
      "100%|██████████| 642/642 [00:00<00:00, 1881.53it/s]\n",
      "100%|██████████| 6193/6193 [00:03<00:00, 1787.14it/s]\n",
      "100%|██████████| 10257/10257 [00:06<00:00, 1665.36it/s]\n"
     ]
    }
   ],
   "source": [
    "raw_data = r'C:\\Users\\Vikash Chand\\Downloads\\drowsyreview\\mrlEyes_2018_01'\n",
    "for dirpath, dirname, filename in os.walk(raw_data):\n",
    "    for file in tqdm([f for f in filename if f.endswith('.png')]):\n",
    "        if file.split('_')[4] == '0':\n",
    "            path=r'C:\\Users\\Vikash Chand\\Downloads\\drowsyreview\\Prepared_data\\train\\closed eyes'\n",
    "            if not os.path.exists(path):\n",
    "                os.makedirs(path)\n",
    "            shutil.copy(src=dirpath + '/' + file, dst= path)\n",
    "        elif file.split('_')[4] == '1':\n",
    "            path=r'C:\\Users\\Vikash Chand\\Downloads\\drowsyreview\\Prepared_data\\train\\open eyes'\n",
    "            if not os.path.exists(path):\n",
    "                os.makedirs(path)\n",
    "            shutil.copy(src=dirpath + '/' + file, dst= path)        "
   ]
  },
  {
   "cell_type": "code",
   "execution_count": 7,
   "metadata": {},
   "outputs": [],
   "source": [
    "def create_test_closed(source, destination, percent):\n",
    "    '''\n",
    "    divides closed eyes images into given percent and moves from\n",
    "    source to destination.\n",
    "    \n",
    "    Arguments:\n",
    "    source(path): path of source directory\n",
    "    destination(path): path of destination directory\n",
    "    percent(float): percent of data to be divided(range: 0 to 1)\n",
    "    '''\n",
    "    path, dirs, files_closed = next(os.walk(source))\n",
    "    file_count_closed = len(files_closed)\n",
    "    percentage = file_count_closed * percent\n",
    "    to_move = random.sample(glob.glob(source + \"/*.png\"), int(percentage))\n",
    "\n",
    "    for f in enumerate(to_move):\n",
    "        if not os.path.exists(destination):\n",
    "            os.makedirs(destination)\n",
    "        shutil.move(f[1], destination)\n",
    "    print(f'moved {int(percentage)} images to the destination successfully.')    "
   ]
  },
  {
   "cell_type": "code",
   "execution_count": 8,
   "metadata": {},
   "outputs": [],
   "source": [
    "def create_test_open(source, destination, percent):\n",
    "    '''\n",
    "    divides open eyes images into given percent and moves from\n",
    "    source to destination.\n",
    "    \n",
    "    Arguments:\n",
    "    source(path): path of source directory\n",
    "    destination(path): path of destination directory\n",
    "    percent(float): percent of data to be divided(range: 0 to 1)\n",
    "    '''\n",
    "    path, dirs, files_open = next(os.walk(source))\n",
    "    file_count_open = len(files_open)\n",
    "    percentage = file_count_open * percent\n",
    "    to_move = random.sample(glob.glob(source + \"/*.png\"), int(percentage))\n",
    "\n",
    "    for f in enumerate(to_move):\n",
    "        if not os.path.exists(destination):\n",
    "            os.makedirs(destination)\n",
    "        shutil.move(f[1], destination)\n",
    "    print(f'moved {int(percentage)} images to the destination successfully.')"
   ]
  },
  {
   "cell_type": "code",
   "execution_count": 9,
   "metadata": {},
   "outputs": [
    {
     "name": "stdout",
     "output_type": "stream",
     "text": [
      "moved 8389 images to the destination successfully.\n"
     ]
    }
   ],
   "source": [
    "create_test_closed(r'C:\\Users\\Vikash Chand\\Downloads\\drowsyreview\\Prepared_data\\train\\closed eyes', \n",
    "                    r'C:\\Users\\Vikash Chand\\Downloads\\drowsyreview\\Prepared_data\\test\\closed eyes', \n",
    "                    0.2)"
   ]
  },
  {
   "cell_type": "code",
   "execution_count": 10,
   "metadata": {},
   "outputs": [
    {
     "name": "stdout",
     "output_type": "stream",
     "text": [
      "moved 8590 images to the destination successfully.\n"
     ]
    }
   ],
   "source": [
    "create_test_open(r'C:\\Users\\Vikash Chand\\Downloads\\drowsyreview\\Prepared_data\\train\\open eyes', \n",
    "                    r'C:\\Users\\Vikash Chand\\Downloads\\drowsyreview\\Prepared_data\\test\\open eyes', \n",
    "                    0.2)"
   ]
  },
  {
   "cell_type": "code",
   "execution_count": null,
   "metadata": {},
   "outputs": [],
   "source": []
  }
 ],
 "metadata": {
  "kernelspec": {
   "display_name": "Python 3.10.7 64-bit",
   "language": "python",
   "name": "python3"
  },
  "language_info": {
   "codemirror_mode": {
    "name": "ipython",
    "version": 3
   },
   "file_extension": ".py",
   "mimetype": "text/x-python",
   "name": "python",
   "nbconvert_exporter": "python",
   "pygments_lexer": "ipython3",
   "version": "3.10.7"
  },
  "vscode": {
   "interpreter": {
    "hash": "26de051ba29f2982a8de78e945f0abaf191376122a1563185a90213a26c5da77"
   }
  }
 },
 "nbformat": 4,
 "nbformat_minor": 4
}

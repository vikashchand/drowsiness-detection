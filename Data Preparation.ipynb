{
 "cells": [
  {
   "cell_type": "code",
   "execution_count": 1,
   "metadata": {},
   "outputs": [],
   "source": [
    "import os\n",
    "import shutil\n",
    "import glob\n",
    "from tqdm import tqdm"
   ]
  },
  {
   "cell_type": "markdown",
   "metadata": {},
   "source": [
    "#\n",
    "subject ID:\n",
    "xxx\n",
    "\n",
    "image number:\n",
    "xxx\n",
    "\n",
    "gender:\n",
    "0 - male\n",
    "1 - female\n",
    "\n",
    "glasses:\n",
    "0 - no\n",
    "1 - yes\n",
    "\n",
    "eye state:\n",
    "0 - close\n",
    "1 - open\n",
    "\n",
    "reflections:\n",
    "0 - none\n",
    "1 - low\n",
    "2 - high\n",
    "\n",
    "lighting conditions/image quality:\n",
    "0 - bad\n",
    "1 - good\n",
    "\n",
    "sensor type:\n",
    "01 - RealSense SR300 640x480\n",
    "02 - IDS Imaging, 1280x1024\n",
    "03 - Aptina Imagin 752x480\n",
    "\n",
    "example:\n",
    "s001_00123_0_0_0_0_0_01.png"
   ]
  },
  {
   "cell_type": "code",
   "execution_count": 2,
   "metadata": {},
   "outputs": [
    {
     "name": "stderr",
     "output_type": "stream",
     "text": [
      "0it [00:00, ?it/s]\n",
      "100%|██████████| 3242/3242 [00:31<00:00, 102.56it/s]\n",
      "100%|██████████| 1114/1114 [00:07<00:00, 149.11it/s]\n",
      "100%|██████████| 679/679 [00:04<00:00, 148.09it/s]\n",
      "100%|██████████| 1069/1069 [00:07<00:00, 149.71it/s]\n",
      "100%|██████████| 736/736 [00:04<00:00, 148.65it/s]\n",
      "100%|██████████| 1012/1012 [00:07<00:00, 143.44it/s]\n",
      "100%|██████████| 624/624 [00:04<00:00, 148.08it/s]\n",
      "100%|██████████| 832/832 [00:05<00:00, 150.71it/s]\n",
      "100%|██████████| 387/387 [00:02<00:00, 150.90it/s]\n",
      "100%|██████████| 399/399 [00:02<00:00, 147.84it/s]\n",
      "100%|██████████| 1648/1648 [00:11<00:00, 142.47it/s]\n",
      "100%|██████████| 8728/8728 [01:01<00:00, 140.93it/s]\n",
      "100%|██████████| 3605/3605 [00:24<00:00, 145.73it/s]\n",
      "100%|██████████| 8884/8884 [01:01<00:00, 145.02it/s]\n",
      "100%|██████████| 1132/1132 [00:07<00:00, 142.33it/s]\n",
      "100%|██████████| 1889/1889 [00:13<00:00, 144.14it/s]\n",
      "100%|██████████| 1648/1648 [00:10<00:00, 152.82it/s]\n",
      "100%|██████████| 4410/4410 [00:30<00:00, 142.43it/s]\n",
      "100%|██████████| 6175/6175 [00:53<00:00, 115.07it/s]\n",
      "100%|██████████| 704/704 [00:10<00:00, 68.63it/s]\n",
      "100%|██████████| 987/987 [00:12<00:00, 79.99it/s]\n",
      "100%|██████████| 382/382 [00:04<00:00, 83.39it/s]\n",
      "100%|██████████| 522/522 [00:07<00:00, 68.03it/s]\n",
      "100%|██████████| 752/752 [00:11<00:00, 67.38it/s]\n",
      "100%|██████████| 1502/1502 [00:26<00:00, 55.97it/s]\n",
      "100%|██████████| 1246/1246 [00:19<00:00, 63.26it/s]\n",
      "100%|██████████| 665/665 [00:11<00:00, 60.23it/s]\n",
      "100%|██████████| 736/736 [00:10<00:00, 68.15it/s]\n",
      "100%|██████████| 1393/1393 [00:22<00:00, 61.10it/s]\n",
      "100%|██████████| 1384/1384 [00:20<00:00, 67.12it/s]\n",
      "100%|██████████| 1738/1738 [00:25<00:00, 67.97it/s]\n",
      "100%|██████████| 6162/6162 [01:41<00:00, 60.59it/s]\n",
      "100%|██████████| 681/681 [00:10<00:00, 66.04it/s]\n",
      "100%|██████████| 739/739 [00:12<00:00, 57.50it/s]\n",
      "100%|██████████| 642/642 [00:09<00:00, 64.94it/s]\n",
      "100%|██████████| 6193/6193 [01:28<00:00, 69.91it/s]\n",
      "100%|██████████| 10257/10257 [02:25<00:00, 70.26it/s]\n"
     ]
    }
   ],
   "source": [
    "Raw_DIR= r'C:\\Users\\Vikash Chand\\Downloads\\drowsyreview\\mrlEyes_2018_01'\n",
    "for dirpath, dirname, filenames in os.walk(Raw_DIR):\n",
    "    for i in tqdm([f for f in filenames if f.endswith('.png')]):\n",
    "        if i.split('_')[4]=='0':\n",
    "            shutil.copy(src=dirpath+'/'+i, dst=r'C:\\Users\\Vikash Chand\\Downloads\\drowsyreview\\Prepared_data\\closed eyes')\n",
    "        \n",
    "        elif i.split('_')[4]=='1':\n",
    "            shutil.copy(src=dirpath+'/'+i, dst=r'C:\\Users\\Vikash Chand\\Downloads\\drowsyreview\\Prepared_data\\open eyes')\n"
   ]
  },
  {
   "cell_type": "code",
   "execution_count": null,
   "metadata": {},
   "outputs": [],
   "source": []
  },
  {
   "cell_type": "code",
   "execution_count": null,
   "metadata": {},
   "outputs": [],
   "source": []
  }
 ],
 "metadata": {
  "kernelspec": {
   "display_name": "Python 3.10.7 64-bit",
   "language": "python",
   "name": "python3"
  },
  "language_info": {
   "codemirror_mode": {
    "name": "ipython",
    "version": 3
   },
   "file_extension": ".py",
   "mimetype": "text/x-python",
   "name": "python",
   "nbconvert_exporter": "python",
   "pygments_lexer": "ipython3",
   "version": "3.10.7"
  },
  "vscode": {
   "interpreter": {
    "hash": "26de051ba29f2982a8de78e945f0abaf191376122a1563185a90213a26c5da77"
   }
  }
 },
 "nbformat": 4,
 "nbformat_minor": 4
}
